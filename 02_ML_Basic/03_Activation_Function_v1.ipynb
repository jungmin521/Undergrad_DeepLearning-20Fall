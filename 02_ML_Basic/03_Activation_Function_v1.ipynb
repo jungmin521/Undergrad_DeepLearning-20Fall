{
 "cells": [
  {
   "cell_type": "code",
   "execution_count": 1,
   "metadata": {
    "executionInfo": {
     "elapsed": 2178,
     "status": "ok",
     "timestamp": 1602735972198,
     "user": {
      "displayName": "jm choi",
      "photoUrl": "",
      "userId": "07207718416485190132"
     },
     "user_tz": -540
    },
    "id": "_icm9D5tgVHV"
   },
   "outputs": [],
   "source": [
    "import numpy as np\n",
    "import matplotlib.pylab as plt"
   ]
  },
  {
   "cell_type": "markdown",
   "metadata": {
    "id": "WpW-AU-VgitP"
   },
   "source": [
    "### Sigmoid"
   ]
  },
  {
   "cell_type": "markdown",
   "metadata": {
    "id": "z7eDIIcIhGw7"
   },
   "source": [
    "$$sigmoid(x) = \\frac{1}{1+e^{-x}}$$\n",
    "$$ = \\frac{1}{1+exp(-x)}$$"
   ]
  },
  {
   "cell_type": "code",
   "execution_count": 8,
   "metadata": {
    "executionInfo": {
     "elapsed": 1222,
     "status": "ok",
     "timestamp": 1602736150782,
     "user": {
      "displayName": "jm choi",
      "photoUrl": "",
      "userId": "07207718416485190132"
     },
     "user_tz": -540
    },
    "id": "nxaEFUyvgzo8"
   },
   "outputs": [],
   "source": [
    "def my_sigmoid(x):\n",
    "    return 1 / (1+np.exp(-x))"
   ]
  },
  {
   "cell_type": "markdown",
   "metadata": {
    "id": "SWkCrrF-hPOk"
   },
   "source": [
    "### Hyperbolic Tangent (tanh)"
   ]
  },
  {
   "cell_type": "markdown",
   "metadata": {
    "id": "RVS5Su9qhUin"
   },
   "source": [
    "$$tanh(x) = \\frac{1 - e^{-x}}{1 + e^{-x}} = \\frac{2}{1+e^{-2x}}-1 = 2 \\times sigmoid(2x) -1$$"
   ]
  },
  {
   "cell_type": "code",
   "execution_count": 9,
   "metadata": {
    "executionInfo": {
     "elapsed": 1499,
     "status": "ok",
     "timestamp": 1602736223721,
     "user": {
      "displayName": "jm choi",
      "photoUrl": "",
      "userId": "07207718416485190132"
     },
     "user_tz": -540
    },
    "id": "DG1yxVoZhUYr"
   },
   "outputs": [],
   "source": [
    "def my_tanh(x):\n",
    "    return 2* my_sigmoid(2 *x) -1"
   ]
  },
  {
   "cell_type": "markdown",
   "metadata": {
    "id": "SHxypKyfhg4t"
   },
   "source": [
    "### Step function"
   ]
  },
  {
   "cell_type": "code",
   "execution_count": 10,
   "metadata": {
    "executionInfo": {
     "elapsed": 836,
     "status": "ok",
     "timestamp": 1602736241429,
     "user": {
      "displayName": "jm choi",
      "photoUrl": "",
      "userId": "07207718416485190132"
     },
     "user_tz": -540
    },
    "id": "eXObhNIfhN2U"
   },
   "outputs": [],
   "source": [
    "def my_step(x):\n",
    "    return np.array(x>0, dtype=np.int)"
   ]
  },
  {
   "cell_type": "markdown",
   "metadata": {
    "id": "v0yD_8kWhlNl"
   },
   "source": [
    "### ReLU"
   ]
  },
  {
   "cell_type": "code",
   "execution_count": 11,
   "metadata": {
    "executionInfo": {
     "elapsed": 806,
     "status": "ok",
     "timestamp": 1602736291970,
     "user": {
      "displayName": "jm choi",
      "photoUrl": "",
      "userId": "07207718416485190132"
     },
     "user_tz": -540
    },
    "id": "mCIFz7zDht15"
   },
   "outputs": [],
   "source": [
    "def my_relu(x):\n",
    "    return np.maximum(0, x)"
   ]
  },
  {
   "cell_type": "code",
   "execution_count": 12,
   "metadata": {
    "executionInfo": {
     "elapsed": 779,
     "status": "ok",
     "timestamp": 1602736301379,
     "user": {
      "displayName": "jm choi",
      "photoUrl": "",
      "userId": "07207718416485190132"
     },
     "user_tz": -540
    },
    "id": "rzJQes14hv0s"
   },
   "outputs": [],
   "source": [
    "# https://stackoverflow.com/a/47936476\n",
    "def my_relu2(x): \n",
    "    return x * (x > 0)"
   ]
  },
  {
   "cell_type": "markdown",
   "metadata": {
    "id": "Hvyp55h7h3Do"
   },
   "source": [
    "### Test"
   ]
  },
  {
   "cell_type": "code",
   "execution_count": 13,
   "metadata": {
    "executionInfo": {
     "elapsed": 820,
     "status": "ok",
     "timestamp": 1602736337466,
     "user": {
      "displayName": "jm choi",
      "photoUrl": "",
      "userId": "07207718416485190132"
     },
     "user_tz": -540
    },
    "id": "b45pPG1FhyH_"
   },
   "outputs": [],
   "source": [
    "x = np.arange(-5,5, 0.1)"
   ]
  },
  {
   "cell_type": "code",
   "execution_count": 14,
   "metadata": {
    "executionInfo": {
     "elapsed": 751,
     "status": "ok",
     "timestamp": 1602736343480,
     "user": {
      "displayName": "jm choi",
      "photoUrl": "",
      "userId": "07207718416485190132"
     },
     "user_tz": -540
    },
    "id": "GlPySmPzh67W"
   },
   "outputs": [],
   "source": [
    "y1 = my_sigmoid(x)\n",
    "y2 = my_tanh(x)\n",
    "y3 = my_step(x)\n",
    "y4 = my_relu2(x)"
   ]
  },
  {
   "cell_type": "code",
   "execution_count": 15,
   "metadata": {
    "colab": {
     "base_uri": "https://localhost:8080/",
     "height": 265
    },
    "executionInfo": {
     "elapsed": 822,
     "status": "ok",
     "timestamp": 1602736352279,
     "user": {
      "displayName": "jm choi",
      "photoUrl": "",
      "userId": "07207718416485190132"
     },
     "user_tz": -540
    },
    "id": "_v2jr_Zah8aV",
    "outputId": "6e0e1027-0b49-437a-aa92-7c04f9b8e051"
   },
   "outputs": [
    {
     "data": {
      "image/png": "[encoded data removed]",
      "text/plain": [
       "<Figure size 432x288 with 1 Axes>"
      ]
     },
     "metadata": {
      "needs_background": "light",
      "tags": []
     },
     "output_type": "display_data"
    }
   ],
   "source": [
    "plt.plot(x, y1)\n",
    "plt.plot(x, y2)\n",
    "plt.plot(x, y3)\n",
    "plt.plot(x, y4)\n",
    "plt.legend(['sigmoid', 'tanh', 'step', 'relu'])\n",
    "plt.grid()"
   ]
  },
  {
   "cell_type": "code",
   "execution_count": null,
   "metadata": {
    "id": "rsmmbWRbh-iu"
   },
   "outputs": [],
   "source": []
  }
 ],
 "metadata": {
  "colab": {
   "authorship_tag": "ABX9TyOBp8M4pk34ovdlDHats9+i",
   "collapsed_sections": [],
   "name": "01_Activation_Function.ipynb",
   "provenance": []
  },
  "kernelspec": {
   "display_name": "Python 3",
   "language": "python",
   "name": "python3"
  },
  "language_info": {
   "codemirror_mode": {
    "name": "ipython",
    "version": 3
   },
   "file_extension": ".py",
   "mimetype": "text/x-python",
   "name": "python",
   "nbconvert_exporter": "python",
   "pygments_lexer": "ipython3",
   "version": "3.6.9"
  }
 },
 "nbformat": 4,
 "nbformat_minor": 1
}
