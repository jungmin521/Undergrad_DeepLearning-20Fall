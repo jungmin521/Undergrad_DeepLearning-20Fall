{
 "cells": [
  {
   "cell_type": "markdown",
   "metadata": {},
   "source": [
    "#### 라이브러리 Import 하기"
   ]
  },
  {
   "cell_type": "code",
   "execution_count": 3,
   "metadata": {},
   "outputs": [
    {
     "name": "stdout",
     "output_type": "stream",
     "text": [
      "WARNING:tensorflow:From /home/h20186526/.venv/py369AI/lib/python3.6/site-packages/tensorflow/python/compat/v2_compat.py:96: disable_resource_variables (from tensorflow.python.ops.variable_scope) is deprecated and will be removed in a future version.\n",
      "Instructions for updating:\n",
      "non-resource variables are not supported in the long term\n"
     ]
    }
   ],
   "source": [
    "#import tensorflow as tf\n",
    "import tensorflow.compat.v1 as tf\n",
    "tf.disable_v2_behavior()\n",
    "\n",
    "import numpy as np\n",
    "import matplotlib.pyplot as plt"
   ]
  },
  {
   "cell_type": "markdown",
   "metadata": {},
   "source": [
    "#### X and Y data"
   ]
  },
  {
   "cell_type": "code",
   "execution_count": 4,
   "metadata": {},
   "outputs": [],
   "source": [
    "x_train = [1, 2, 3, 4, 5]\n",
    "#y_train = [3.1, 5.3, 7.2, 9.5, 11.7] #noise 다르게 주기\n",
    "#y_train = [2, 4, 6, 8, 10] #2x\n",
    "y_train = [5.1, 7.2, 9.3, 11.4, 13.5] #y = 2.1x + 3\n",
    "\n",
    "signal_length = len(x_train)\n",
    "y_noise = np.random.normal(0, 1, signal_length)\n",
    "\n",
    "y_train = y_train + y_noise"
   ]
  },
  {
   "cell_type": "code",
   "execution_count": 5,
   "metadata": {},
   "outputs": [
    {
     "data": {
      "image/png": "[encoded data removed]",
      "text/plain": [
       "<Figure size 432x288 with 1 Axes>"
      ]
     },
     "metadata": {
      "needs_background": "light"
     },
     "output_type": "display_data"
    }
   ],
   "source": [
    "plt.plot(x_train, y_train,'.-')\n",
    "plt.grid()"
   ]
  },
  {
   "cell_type": "markdown",
   "metadata": {},
   "source": [
    "#### Initialization"
   ]
  },
  {
   "cell_type": "code",
   "execution_count": 6,
   "metadata": {},
   "outputs": [],
   "source": [
    "useRandom = False"
   ]
  },
  {
   "cell_type": "code",
   "execution_count": 7,
   "metadata": {},
   "outputs": [],
   "source": [
    "if useRandom:\n",
    "    W = tf.Variable(tf.random_normal([1]), name='weight')\n",
    "    b = tf.Variable(tf.random_normal([1]), name='bias')\n",
    "else:\n",
    "    w0 = 2.0;\n",
    "    b0 = 3.0;\n",
    "\n",
    "    W = tf.Variable(w0*tf.ones([1]), name='weight')\n",
    "    b = tf.Variable(b0*tf.ones([1]), name='bias')"
   ]
  },
  {
   "cell_type": "markdown",
   "metadata": {},
   "source": [
    "#### Our hypothesis\n",
    "$$ H(x)=Wx + b $$"
   ]
  },
  {
   "cell_type": "code",
   "execution_count": 9,
   "metadata": {},
   "outputs": [],
   "source": [
    "hypothesis = x_train * W + b"
   ]
  },
  {
   "cell_type": "markdown",
   "metadata": {},
   "source": [
    "#### cost/loss function 정의하기"
   ]
  },
  {
   "cell_type": "markdown",
   "metadata": {},
   "source": [
    "* loss of one training example :\n",
    "$$loss = \\mathcal{L}(\\hat{y}, y) = (\\hat y^{(i)} - y^{(i)})^2$$"
   ]
  },
  {
   "cell_type": "code",
   "execution_count": 10,
   "metadata": {},
   "outputs": [],
   "source": [
    "loss = tf.reduce_mean(tf.square(hypothesis - y_train))"
   ]
  },
  {
   "cell_type": "markdown",
   "metadata": {},
   "source": [
    "#### Optimizer"
   ]
  },
  {
   "cell_type": "code",
   "execution_count": 11,
   "metadata": {},
   "outputs": [],
   "source": [
    "optimizer = tf.train.GradientDescentOptimizer(learning_rate=0.01)\n",
    "train = optimizer.minimize(loss)"
   ]
  },
  {
   "cell_type": "markdown",
   "metadata": {},
   "source": [
    "#### Launch the graph in a session"
   ]
  },
  {
   "cell_type": "code",
   "execution_count": 12,
   "metadata": {},
   "outputs": [],
   "source": [
    "sess = tf.Session()"
   ]
  },
  {
   "cell_type": "markdown",
   "metadata": {},
   "source": [
    "#### Initializes global variables in the graph."
   ]
  },
  {
   "cell_type": "code",
   "execution_count": 13,
   "metadata": {},
   "outputs": [],
   "source": [
    "sess.run(tf.global_variables_initializer())"
   ]
  },
  {
   "cell_type": "code",
   "execution_count": 14,
   "metadata": {},
   "outputs": [
    {
     "name": "stdout",
     "output_type": "stream",
     "text": [
      "0 \t 1.4983656 \t 2.0373557 \t 3.0093353\n",
      "50 \t 1.3119044 \t 2.168983 \t 2.999338\n",
      "100 \t 1.3090452 \t 2.1790721 \t 2.9629135\n",
      "150 \t 1.3070077 \t 2.1875896 \t 2.9321628\n",
      "200 \t 1.3055552 \t 2.1947803 \t 2.9062018\n",
      "250 \t 1.3045201 \t 2.200851 \t 2.8842854\n",
      "300 \t 1.3037826 \t 2.2059758 \t 2.865783\n",
      "350 \t 1.3032566 \t 2.2103024 \t 2.8501625\n",
      "400 \t 1.302882 \t 2.2139552 \t 2.8369753\n",
      "450 \t 1.3026145 \t 2.2170389 \t 2.8258426\n",
      "500 \t 1.3024244 \t 2.2196422 \t 2.8164432\n",
      "550 \t 1.3022887 \t 2.22184 \t 2.8085084\n",
      "600 \t 1.302192 \t 2.2236958 \t 2.8018086\n",
      "650 \t 1.3021228 \t 2.2252624 \t 2.7961526\n",
      "700 \t 1.3020741 \t 2.2265847 \t 2.7913783\n",
      "750 \t 1.3020388 \t 2.227701 \t 2.787348\n",
      "800 \t 1.302014 \t 2.2286437 \t 2.7839453\n",
      "850 \t 1.3019962 \t 2.2294393 \t 2.7810721\n",
      "900 \t 1.3019834 \t 2.230111 \t 2.7786472\n",
      "950 \t 1.3019745 \t 2.2306778 \t 2.7766004\n",
      "1000 \t 1.3019682 \t 2.2311566 \t 2.7748716\n"
     ]
    }
   ],
   "source": [
    "nb_epoch = 1001\n",
    "vloss = [] #empty list\n",
    "vb = [] #empty list\n",
    "vw = [] #empty list\n",
    "for step in range(nb_epoch):\n",
    "    sess.run(train)\n",
    "    loss1 = sess.run(loss)\n",
    "    w1 = sess.run(W)[0]\n",
    "    b1 = sess.run(b)[0]\n",
    "    vloss.append(loss1)\n",
    "    vw.append(w1)\n",
    "    vb.append(b1)\n",
    "\n",
    "    if step % 50 == 0: # 5번마다\n",
    "        \n",
    "        print(step,'\\t', loss1, '\\t', w1, '\\t',b1)"
   ]
  },
  {
   "cell_type": "code",
   "execution_count": 15,
   "metadata": {},
   "outputs": [
    {
     "data": {
      "text/plain": [
       "Text(0, 0.5, 'loss')"
      ]
     },
     "execution_count": 15,
     "metadata": {},
     "output_type": "execute_result"
    },
    {
     "data": {
      "image/png": "[encoded data removed]",
      "text/plain": [
       "<Figure size 432x288 with 1 Axes>"
      ]
     },
     "metadata": {
      "needs_background": "light"
     },
     "output_type": "display_data"
    }
   ],
   "source": [
    "plt.plot(vloss[:40],'.-')\n",
    "plt.xlabel('epoch')\n",
    "plt.ylabel('loss')"
   ]
  },
  {
   "cell_type": "markdown",
   "metadata": {},
   "source": [
    "TODO: w, b의 epoch 에 따른 변화 그래프 넣기 !"
   ]
  },
  {
   "cell_type": "code",
   "execution_count": 17,
   "metadata": {},
   "outputs": [
    {
     "data": {
      "text/plain": [
       "Text(0, 0.5, 'w1')"
      ]
     },
     "execution_count": 17,
     "metadata": {},
     "output_type": "execute_result"
    },
    {
     "data": {
      "image/png": "[encoded data removed]",
      "text/plain": [
       "<Figure size 432x288 with 1 Axes>"
      ]
     },
     "metadata": {
      "needs_background": "light"
     },
     "output_type": "display_data"
    }
   ],
   "source": [
    "plt.plot(vw[:40],'.-') #변화를 좀 더 살펴보기 위해 갯수를 40개로 늘려서 찍어봄\n",
    "plt.xlabel('epoch')\n",
    "plt.ylabel('w1')"
   ]
  },
  {
   "cell_type": "code",
   "execution_count": 18,
   "metadata": {},
   "outputs": [
    {
     "data": {
      "text/plain": [
       "Text(0, 0.5, 'b1')"
      ]
     },
     "execution_count": 18,
     "metadata": {},
     "output_type": "execute_result"
    },
    {
     "data": {
      "image/png": "[encoded data removed]",
      "text/plain": [
       "<Figure size 432x288 with 1 Axes>"
      ]
     },
     "metadata": {
      "needs_background": "light"
     },
     "output_type": "display_data"
    }
   ],
   "source": [
    "plt.plot(vb[:40],'.-') #변화를 좀 더 살펴보기 위해 갯수를 40개로 늘려서 찍어봄\n",
    "plt.xlabel('epoch')\n",
    "plt.ylabel('b1')"
   ]
  },
  {
   "cell_type": "markdown",
   "metadata": {},
   "source": [
    "#### 학습완료"
   ]
  },
  {
   "cell_type": "code",
   "execution_count": 19,
   "metadata": {},
   "outputs": [],
   "source": [
    "w1 = sess.run(W)[0] # 기울기\n",
    "b1 = sess.run(b)[0] # bias"
   ]
  },
  {
   "cell_type": "markdown",
   "metadata": {},
   "source": [
    "#### 출력해보기"
   ]
  },
  {
   "cell_type": "code",
   "execution_count": 20,
   "metadata": {},
   "outputs": [
    {
     "name": "stdout",
     "output_type": "stream",
     "text": [
      "2.2311566 2.7748716\n"
     ]
    }
   ],
   "source": [
    "print(w1, b1)"
   ]
  },
  {
   "cell_type": "code",
   "execution_count": 21,
   "metadata": {},
   "outputs": [
    {
     "name": "stdout",
     "output_type": "stream",
     "text": [
      "y = 2.2311566x + 2.7748716\n"
     ]
    }
   ],
   "source": [
    "str1 = 'y = ' + str(w1) +'x + ' + str(b1)\n",
    "print(str1)"
   ]
  },
  {
   "cell_type": "code",
   "execution_count": 22,
   "metadata": {},
   "outputs": [
    {
     "data": {
      "text/plain": [
       "Text(0.5, 1.0, 'y = 2.2311566x + 2.7748716')"
      ]
     },
     "execution_count": 22,
     "metadata": {},
     "output_type": "execute_result"
    },
    {
     "data": {
      "image/png": "[encoded data removed]",
      "text/plain": [
       "<Figure size 432x288 with 1 Axes>"
      ]
     },
     "metadata": {
      "needs_background": "light"
     },
     "output_type": "display_data"
    }
   ],
   "source": [
    "plt.figure(figsize=(6,4)) # figsize를 바꾸어보세요\n",
    "plt.plot(x_train, y_train,'o') #train data 그리기\n",
    "\n",
    "# 직선 그래프를 그리기 위한 코드\n",
    "# 그래프의 x좌표를 일정 간격으로 설정함\n",
    "x1 = np.linspace(np.min(x_train)-1, np.max(x_train)+1)\n",
    "y1 = w1*x1 + b1\n",
    "plt.plot(x1, y1)\n",
    "\n",
    "plt.grid() # 격자\n",
    "#plt.axis((np.min(x_train) - 1, np.max(x_train) + 1, np.min(y_train) - 1, np.max(y_train) + 1))\n",
    "plt.title(str1)"
   ]
  }
 ],
 "metadata": {
  "kernelspec": {
   "display_name": "Python 3",
   "language": "python",
   "name": "python3"
  },
  "language_info": {
   "codemirror_mode": {
    "name": "ipython",
    "version": 3
   },
   "file_extension": ".py",
   "mimetype": "text/x-python",
   "name": "python",
   "nbconvert_exporter": "python",
   "pygments_lexer": "ipython3",
   "version": "3.6.9"
  }
 },
 "nbformat": 4,
 "nbformat_minor": 4
}
